{
 "cells": [
  {
   "cell_type": "code",
   "execution_count": 1,
   "metadata": {
    "editable": true
   },
   "outputs": [],
   "source": [
    "import configparser\n",
    "import os\n",
    "from pyspark.sql import SparkSession\n",
    "from pyspark.sql.functions import col\n",
    "from pyspark.sql.types import TimestampType\n",
    "from pyspark.sql.functions import year, month, dayofmonth, hour, weekofyear\n",
    "import pyspark.sql.functions as F\n",
    "from pyspark.sql import types as T\n",
    "from pyspark.sql import Window\n",
    "from datetime import datetime"
   ]
  },
  {
   "cell_type": "code",
   "execution_count": 2,
   "metadata": {
    "editable": true
   },
   "outputs": [
    {
     "data": {
      "text/plain": [
       "['dl.cfg']"
      ]
     },
     "execution_count": 2,
     "metadata": {},
     "output_type": "execute_result"
    }
   ],
   "source": [
    "config = configparser.ConfigParser()\n",
    "config.read('dl.cfg')"
   ]
  },
  {
   "cell_type": "code",
   "execution_count": 3,
   "metadata": {
    "editable": true
   },
   "outputs": [],
   "source": [
    "os.environ['AWS_ACCESS_KEY_ID']=config['KEYS']['AWS_ACCESS_KEY_ID']\n",
    "os.environ['AWS_SECRET_ACCESS_KEY']=config['KEYS']['AWS_SECRET_ACCESS_KEY']"
   ]
  },
  {
   "cell_type": "code",
   "execution_count": 4,
   "metadata": {
    "editable": true
   },
   "outputs": [],
   "source": [
    "spark = SparkSession \\\n",
    "        .builder \\\n",
    "        .appName(\"Data Lake with Spark Project\") \\\n",
    "        .config(\"spark.jars.packages\", \"org.apache.hadoop:hadoop-aws:2.7.0\") \\\n",
    "        .config(\"spark.hadoop.fs.s3a.endpoint\", \"s3-us-west-2.amazonaws.com\") \\\n",
    "        .getOrCreate()"
   ]
  },
  {
   "cell_type": "code",
   "execution_count": 5,
   "metadata": {
    "editable": true
   },
   "outputs": [
    {
     "data": {
      "text/html": [
       "\n",
       "            <div>\n",
       "                <p><b>SparkSession - in-memory</b></p>\n",
       "                \n",
       "        <div>\n",
       "            <p><b>SparkContext</b></p>\n",
       "\n",
       "            <p><a href=\"http://b8a147144bca:4040\">Spark UI</a></p>\n",
       "\n",
       "            <dl>\n",
       "              <dt>Version</dt>\n",
       "                <dd><code>v2.4.3</code></dd>\n",
       "              <dt>Master</dt>\n",
       "                <dd><code>local[*]</code></dd>\n",
       "              <dt>AppName</dt>\n",
       "                <dd><code>Data Lake with Spark Project</code></dd>\n",
       "            </dl>\n",
       "        </div>\n",
       "        \n",
       "            </div>\n",
       "        "
      ],
      "text/plain": [
       "<pyspark.sql.session.SparkSession at 0x7faad359c2b0>"
      ]
     },
     "execution_count": 5,
     "metadata": {},
     "output_type": "execute_result"
    }
   ],
   "source": [
    "spark"
   ]
  },
  {
   "cell_type": "code",
   "execution_count": 6,
   "metadata": {
    "editable": true
   },
   "outputs": [],
   "source": [
    "song_data = 's3a://udacity-dend/song_data/A/A/*/*.json'"
   ]
  },
  {
   "cell_type": "code",
   "execution_count": 7,
   "metadata": {
    "editable": true
   },
   "outputs": [],
   "source": [
    "song_df = spark.read.json(song_data)"
   ]
  },
  {
   "cell_type": "code",
   "execution_count": 8,
   "metadata": {
    "editable": true
   },
   "outputs": [
    {
     "data": {
      "text/plain": [
       "[Row(artist_id='ARSUVLW12454A4C8B8', artist_latitude=35.83073, artist_location='Tennessee', artist_longitude=-85.97874, artist_name='Royal Philharmonic Orchestra/Sir Thomas Beecham', duration=94.56281, num_songs=1, song_id='SOBTCUI12A8AE48B70', title='Faust: Ballet Music (1959 Digital Remaster): VI.     Variations du miroir (Allegretto)', year=0)]"
      ]
     },
     "execution_count": 8,
     "metadata": {},
     "output_type": "execute_result"
    }
   ],
   "source": [
    "song_df.take(1)"
   ]
  },
  {
   "cell_type": "code",
   "execution_count": 9,
   "metadata": {
    "editable": true
   },
   "outputs": [
    {
     "name": "stdout",
     "output_type": "stream",
     "text": [
      "root\n",
      " |-- artist_id: string (nullable = true)\n",
      " |-- artist_latitude: double (nullable = true)\n",
      " |-- artist_location: string (nullable = true)\n",
      " |-- artist_longitude: double (nullable = true)\n",
      " |-- artist_name: string (nullable = true)\n",
      " |-- duration: double (nullable = true)\n",
      " |-- num_songs: long (nullable = true)\n",
      " |-- song_id: string (nullable = true)\n",
      " |-- title: string (nullable = true)\n",
      " |-- year: long (nullable = true)\n",
      "\n"
     ]
    }
   ],
   "source": [
    "song_df.printSchema()"
   ]
  },
  {
   "cell_type": "code",
   "execution_count": 10,
   "metadata": {
    "editable": true
   },
   "outputs": [],
   "source": [
    "songs_table = song_df.select(\"song_id\", \"title\", \"artist_id\", \"year\", \"duration\").distinct()"
   ]
  },
  {
   "cell_type": "code",
   "execution_count": 11,
   "metadata": {
    "editable": true
   },
   "outputs": [
    {
     "name": "stdout",
     "output_type": "stream",
     "text": [
      "+------------------+--------------------+------------------+----+---------+\n",
      "|           song_id|               title|         artist_id|year| duration|\n",
      "+------------------+--------------------+------------------+----+---------+\n",
      "|SOHQZIB12A6D4F9FAF|N****_ What's Up ...|ARWAFY51187FB5C4EF|2006|196.85832|\n",
      "|SOCOHAX12A8C13B6B2|Walking With The ...|ARE5F2F1187B9AB7E9|1966|152.16281|\n",
      "|SOKNGDE12AB017CA4D| Step Into Your Skin|ARE4SDM1187FB4D7E4|   0|139.72853|\n",
      "|SOQBZDP12AB0180E28|   Depths Of Bavaria|ARWRO6T1187B98C5D6|2008| 257.4624|\n",
      "|SODZYPO12A8C13A91E|Burn My Body (Alb...|AR1C2IX1187B99BF74|   0|177.99791|\n",
      "+------------------+--------------------+------------------+----+---------+\n",
      "only showing top 5 rows\n",
      "\n"
     ]
    }
   ],
   "source": [
    "songs_table.show(5)"
   ]
  },
  {
   "cell_type": "code",
   "execution_count": 12,
   "metadata": {
    "editable": true
   },
   "outputs": [],
   "source": [
    "songs_table.write.partitionBy(\"year\",\"artist_id\").mode(\"overwrite\").parquet(\"s3a://foustawsbucket/output/songs_table.parquet\")"
   ]
  },
  {
   "cell_type": "code",
   "execution_count": 13,
   "metadata": {
    "editable": true
   },
   "outputs": [],
   "source": [
    "artists_table = song_df.select(\"artist_id\", \"artist_name\", \"artist_location\", \"artist_latitude\", \"artist_longitude\").distinct()"
   ]
  },
  {
   "cell_type": "code",
   "execution_count": 14,
   "metadata": {
    "editable": true
   },
   "outputs": [
    {
     "name": "stdout",
     "output_type": "stream",
     "text": [
      "+------------------+-----------------+--------------------+---------------+----------------+\n",
      "|         artist_id|      artist_name|     artist_location|artist_latitude|artist_longitude|\n",
      "+------------------+-----------------+--------------------+---------------+----------------+\n",
      "|AR1S3NH1187B98C2BC|        Anthony B|Clarks Town, Jamaica|           null|            null|\n",
      "|ARPIKA31187FB4C233|       The Action|            New York|       40.71455|       -74.00712|\n",
      "|ARYL56G11C8A41634E|    Mick Flannery|                    |           null|            null|\n",
      "|AR1XL241187FB3F4AB|Nortec Collective|                    |           null|            null|\n",
      "|ARMI4NV1187B99D55D|          Man Man|    Philadelphia, PA|       39.95227|       -75.16237|\n",
      "+------------------+-----------------+--------------------+---------------+----------------+\n",
      "only showing top 5 rows\n",
      "\n"
     ]
    }
   ],
   "source": [
    "artists_table.show(5)"
   ]
  },
  {
   "cell_type": "code",
   "execution_count": 15,
   "metadata": {
    "editable": true
   },
   "outputs": [],
   "source": [
    "artists_table.write.mode(\"overwrite\").parquet(\"s3a://foustawsbucket/output/artists_table.parquet\")"
   ]
  },
  {
   "cell_type": "code",
   "execution_count": 16,
   "metadata": {
    "editable": true
   },
   "outputs": [],
   "source": [
    "log_data = 's3a://udacity-dend/log_data/2018/11/*.json'"
   ]
  },
  {
   "cell_type": "code",
   "execution_count": 17,
   "metadata": {
    "editable": true
   },
   "outputs": [],
   "source": [
    "log_df = spark.read.json(log_data)"
   ]
  },
  {
   "cell_type": "code",
   "execution_count": 18,
   "metadata": {
    "editable": true
   },
   "outputs": [
    {
     "data": {
      "text/plain": [
       "[Row(artist='Harmonia', auth='Logged In', firstName='Ryan', gender='M', itemInSession=0, lastName='Smith', length=655.77751, level='free', location='San Jose-Sunnyvale-Santa Clara, CA', method='PUT', page='NextSong', registration=1541016707796.0, sessionId=583, song='Sehr kosmisch', status=200, ts=1542241826796, userAgent='\"Mozilla/5.0 (X11; Linux x86_64) AppleWebKit/537.36 (KHTML, like Gecko) Ubuntu Chromium/36.0.1985.125 Chrome/36.0.1985.125 Safari/537.36\"', userId='26')]"
      ]
     },
     "execution_count": 18,
     "metadata": {},
     "output_type": "execute_result"
    }
   ],
   "source": [
    "log_df.take(1)"
   ]
  },
  {
   "cell_type": "code",
   "execution_count": 19,
   "metadata": {
    "editable": true
   },
   "outputs": [
    {
     "name": "stdout",
     "output_type": "stream",
     "text": [
      "root\n",
      " |-- artist: string (nullable = true)\n",
      " |-- auth: string (nullable = true)\n",
      " |-- firstName: string (nullable = true)\n",
      " |-- gender: string (nullable = true)\n",
      " |-- itemInSession: long (nullable = true)\n",
      " |-- lastName: string (nullable = true)\n",
      " |-- length: double (nullable = true)\n",
      " |-- level: string (nullable = true)\n",
      " |-- location: string (nullable = true)\n",
      " |-- method: string (nullable = true)\n",
      " |-- page: string (nullable = true)\n",
      " |-- registration: double (nullable = true)\n",
      " |-- sessionId: long (nullable = true)\n",
      " |-- song: string (nullable = true)\n",
      " |-- status: long (nullable = true)\n",
      " |-- ts: long (nullable = true)\n",
      " |-- userAgent: string (nullable = true)\n",
      " |-- userId: string (nullable = true)\n",
      "\n"
     ]
    }
   ],
   "source": [
    "log_df.printSchema()"
   ]
  },
  {
   "cell_type": "code",
   "execution_count": 20,
   "metadata": {
    "editable": true
   },
   "outputs": [],
   "source": [
    "log_df = log_df.filter(log_df.page == 'NextSong')"
   ]
  },
  {
   "cell_type": "code",
   "execution_count": 21,
   "metadata": {
    "editable": true
   },
   "outputs": [],
   "source": [
    "users_table = log_df.select(\"userId\", \"firstName\", \"lastName\", \"gender\", \"level\").distinct()"
   ]
  },
  {
   "cell_type": "code",
   "execution_count": 22,
   "metadata": {
    "editable": true
   },
   "outputs": [
    {
     "name": "stdout",
     "output_type": "stream",
     "text": [
      "+------+---------+--------+------+-----+\n",
      "|userId|firstName|lastName|gender|level|\n",
      "+------+---------+--------+------+-----+\n",
      "|    57|Katherine|     Gay|     F| free|\n",
      "|    84|  Shakira|    Hunt|     F| free|\n",
      "|    22|     Sean|  Wilson|     F| free|\n",
      "|    52| Theodore|   Smith|     M| free|\n",
      "|    80|    Tegan|  Levine|     F| paid|\n",
      "+------+---------+--------+------+-----+\n",
      "only showing top 5 rows\n",
      "\n"
     ]
    }
   ],
   "source": [
    "users_table.show(5)"
   ]
  },
  {
   "cell_type": "code",
   "execution_count": 23,
   "metadata": {
    "editable": true
   },
   "outputs": [],
   "source": [
    "users_table.write.mode(\"overwrite\").parquet(\"s3a://foustawsbucket/output/users_table.parquet\")"
   ]
  },
  {
   "cell_type": "code",
   "execution_count": 24,
   "metadata": {
    "editable": true
   },
   "outputs": [],
   "source": [
    "log_df = log_df.withColumn(\"ts\", (F.round(col('ts')/1000)).cast(TimestampType()))"
   ]
  },
  {
   "cell_type": "code",
   "execution_count": 25,
   "metadata": {
    "editable": true
   },
   "outputs": [],
   "source": [
    "time_table = log_df.selectExpr(\"ts AS start_time\") \\\n",
    "            .withColumn(\"hour\", F.hour(\"start_time\")) \\\n",
    "            .withColumn(\"day\", F.dayofmonth(\"start_time\")) \\\n",
    "            .withColumn(\"week\", F.weekofyear(\"start_time\")) \\\n",
    "            .withColumn(\"month\", F.month(\"start_time\")) \\\n",
    "            .withColumn(\"year\", F.year(\"start_time\")) \\\n",
    "            .withColumn(\"weekday\", F.dayofweek(\"start_time\")).distinct()"
   ]
  },
  {
   "cell_type": "code",
   "execution_count": 26,
   "metadata": {
    "editable": true
   },
   "outputs": [
    {
     "name": "stdout",
     "output_type": "stream",
     "text": [
      "+-------------------+----+---+----+-----+----+-------+\n",
      "|         start_time|hour|day|week|month|year|weekday|\n",
      "+-------------------+----+---+----+-----+----+-------+\n",
      "|2018-11-15 17:19:14|  17| 15|  46|   11|2018|      5|\n",
      "|2018-11-15 18:31:39|  18| 15|  46|   11|2018|      5|\n",
      "|2018-11-21 17:17:48|  17| 21|  47|   11|2018|      4|\n",
      "|2018-11-14 00:53:44|   0| 14|  46|   11|2018|      4|\n",
      "|2018-11-14 12:00:45|  12| 14|  46|   11|2018|      4|\n",
      "+-------------------+----+---+----+-----+----+-------+\n",
      "only showing top 5 rows\n",
      "\n"
     ]
    }
   ],
   "source": [
    "time_table.show(5)"
   ]
  },
  {
   "cell_type": "code",
   "execution_count": 27,
   "metadata": {
    "editable": true
   },
   "outputs": [],
   "source": [
    "time_table.write.partitionBy(\"year\",\"month\").mode(\"overwrite\").parquet(\"s3a://foustawsbucket/output/time_table.parquet\")"
   ]
  },
  {
   "cell_type": "code",
   "execution_count": 28,
   "metadata": {
    "editable": true
   },
   "outputs": [],
   "source": [
    "songplays_table = log_df.join(song_df, (log_df.artist == song_df.artist_name)\\\n",
    "                                        & (log_df.song == song_df.title)\\\n",
    "                                        & (log_df.length == song_df.duration))\\\n",
    "                              .join(time_table,(log_df.ts == time_table.start_time))\\\n",
    "                              .select(time_table.start_time,\"userId\", \"level\", \"song_id\", \\\n",
    "                                      \"artist_id\", \"sessionId\", \"location\", \"userAgent\",time_table.year,\"month\")   \n",
    "    \n",
    "songplays_table = songplays_table.withColumn(\"col_id\", F.monotonically_increasing_id())\n",
    "window = Window.orderBy(F.col('col_id'))\n",
    "songplays_table = songplays_table.withColumn(\"songplay_id\",F.row_number().over(window))\\\n",
    "                  .select(\"songplay_id\",\"start_time\",\"userId\",\"level\",\"song_id\",\"artist_id\",\"sessionId\",\"location\", \"userAgent\",\"year\",\"month\")"
   ]
  },
  {
   "cell_type": "code",
   "execution_count": 29,
   "metadata": {
    "editable": true
   },
   "outputs": [
    {
     "name": "stdout",
     "output_type": "stream",
     "text": [
      "+-----------+-------------------+------+-----+------------------+------------------+---------+--------------------+--------------------+----+-----+\n",
      "|songplay_id|         start_time|userId|level|           song_id|         artist_id|sessionId|            location|           userAgent|year|month|\n",
      "+-----------+-------------------+------+-----+------------------+------------------+---------+--------------------+--------------------+----+-----+\n",
      "|          1|2018-11-21 21:56:48|    15| paid|SOZCTXZ12AB0182364|AR5KOSW1187FB35FF4|      818|Chicago-Napervill...|\"Mozilla/5.0 (X11...|2018|   11|\n",
      "|          2|2018-11-05 17:49:43|    73| paid|SOHDWWH12A6D4F7F6A|ARC0IOF1187FB3F6E6|      255|Tampa-St. Petersb...|\"Mozilla/5.0 (Mac...|2018|   11|\n",
      "|          3|2018-11-13 22:39:40|    55| free|SOXQYSC12A6310E908|AR0L04E1187B9AE90C|      415|Minneapolis-St. P...|\"Mozilla/5.0 (Mac...|2018|   11|\n",
      "|          4|2018-11-16 14:21:13|    85| paid|SOLRYQR12A670215BF|ARNLO5S1187B9B80CC|      436|       Red Bluff, CA|\"Mozilla/5.0 (Mac...|2018|   11|\n",
      "|          5|2018-11-20 17:46:39|    49| paid|SOCHRXB12A8AE48069|ARTDQRC1187FB4EFD4|      758|San Francisco-Oak...|Mozilla/5.0 (Wind...|2018|   11|\n",
      "+-----------+-------------------+------+-----+------------------+------------------+---------+--------------------+--------------------+----+-----+\n",
      "only showing top 5 rows\n",
      "\n"
     ]
    }
   ],
   "source": [
    "songplays_table.show(5)"
   ]
  },
  {
   "cell_type": "code",
   "execution_count": 30,
   "metadata": {
    "editable": true
   },
   "outputs": [],
   "source": [
    "songplays_table.write.partitionBy(\"year\",\"month\").mode(\"overwrite\").parquet(\"s3a://foustawsbucket/output/songplays_table.parquet\")"
   ]
  },
  {
   "cell_type": "markdown",
   "metadata": {
    "editable": true
   },
   "source": [
    "# SQL examples for song analysis:"
   ]
  },
  {
   "cell_type": "code",
   "execution_count": 31,
   "metadata": {
    "editable": true
   },
   "outputs": [
    {
     "name": "stdout",
     "output_type": "stream",
     "text": [
      "root\n",
      " |-- artist_id: string (nullable = true)\n",
      " |-- artist_name: string (nullable = true)\n",
      " |-- artist_location: string (nullable = true)\n",
      " |-- artist_latitude: double (nullable = true)\n",
      " |-- artist_longitude: double (nullable = true)\n",
      "\n"
     ]
    }
   ],
   "source": [
    "artists_table.printSchema()"
   ]
  },
  {
   "cell_type": "code",
   "execution_count": 32,
   "metadata": {
    "editable": true
   },
   "outputs": [
    {
     "name": "stdout",
     "output_type": "stream",
     "text": [
      "root\n",
      " |-- song_id: string (nullable = true)\n",
      " |-- title: string (nullable = true)\n",
      " |-- artist_id: string (nullable = true)\n",
      " |-- year: long (nullable = true)\n",
      " |-- duration: double (nullable = true)\n",
      "\n"
     ]
    }
   ],
   "source": [
    "songs_table.printSchema()"
   ]
  },
  {
   "cell_type": "code",
   "execution_count": 33,
   "metadata": {
    "editable": true
   },
   "outputs": [],
   "source": [
    "artists_table.createOrReplaceTempView(\"artists_view\")"
   ]
  },
  {
   "cell_type": "code",
   "execution_count": 34,
   "metadata": {
    "editable": true
   },
   "outputs": [],
   "source": [
    "songs_table.createOrReplaceTempView(\"songs_view\")"
   ]
  },
  {
   "cell_type": "markdown",
   "metadata": {
    "editable": true
   },
   "source": [
    "### List of artists and songs (up to 20 records)"
   ]
  },
  {
   "cell_type": "code",
   "execution_count": 36,
   "metadata": {
    "editable": true
   },
   "outputs": [
    {
     "name": "stdout",
     "output_type": "stream",
     "text": [
      "+------------------+-----------------+--------------------+---------------+----------------+------------------+--------------------+------------------+----+---------+\n",
      "|         artist_id|      artist_name|     artist_location|artist_latitude|artist_longitude|           song_id|               title|         artist_id|year| duration|\n",
      "+------------------+-----------------+--------------------+---------------+----------------+------------------+--------------------+------------------+----+---------+\n",
      "|AR1S3NH1187B98C2BC|        Anthony B|Clarks Town, Jamaica|           null|            null|SONHGLD12AB0188D47|          Our Father|AR1S3NH1187B98C2BC|1999| 202.4224|\n",
      "|ARPIKA31187FB4C233|       The Action|            New York|       40.71455|       -74.00712|SOPVNTL12AB01854F9|               Brain|ARPIKA31187FB4C233|   0|180.32281|\n",
      "|ARYL56G11C8A41634E|    Mick Flannery|                    |           null|            null|SOVSKKG12A81C21A77|       Grace's Waltz|ARYL56G11C8A41634E|   0|153.93914|\n",
      "|AR1XL241187FB3F4AB|Nortec Collective|                    |           null|            null|SOKARQT12A58A78B7B|           Panoptica|AR1XL241187FB3F4AB|   0|355.99628|\n",
      "|ARMI4NV1187B99D55D|          Man Man|    Philadelphia, PA|       39.95227|       -75.16237|SOFAMRP12AF72A069E|The Ballad Of But...|ARMI4NV1187B99D55D|2008|268.87791|\n",
      "|ARMMJ2R1187B993A72|         S.O.A.P.|             Denmark|       56.27609|         9.51695|SOWXZTV12AB0185F0A| Welcome To My Party|ARMMJ2R1187B993A72|   0|218.48771|\n",
      "|ARGS47D1187FB40225| Peter And Gordon|     London, England|           null|            null|SODIWID12A6D4F803A|Lucille (1999 Dig...|ARGS47D1187FB40225|   0|127.97342|\n",
      "|ARKKQBD1187FB3715B|          Juniper|   San Francisco, CA|       37.77916|      -122.42005|SOLVMYS12AB017C758|      Gain the World|ARKKQBD1187FB3715B|   0|225.12281|\n",
      "|ARC1IHZ1187FB4E920|     Jamie Cullum|                    |           null|            null|SOUOYBD12A67AE0EC5|              Oh God|ARC1IHZ1187FB4E920|   0|218.30485|\n",
      "|ARC1IHZ1187FB4E920|     Jamie Cullum|                    |           null|            null|SOXZYWX12A6310ED0C|     It's About Time|ARC1IHZ1187FB4E920|   0| 246.9873|\n",
      "|ARIQ98H1187B98DFBC|       Matt Costa|Huntington Beach, CA|           null|            null|SOJYPBE12A58A7A994|              Astair|ARIQ98H1187B98DFBC|2003|178.83383|\n",
      "|ARIFGKC1187B9B04D5|      Dean Martin|    Steubenville, OH|           null|            null|SOYCTBG12A8C144341|Until You Love So...|ARIFGKC1187B9B04D5|2005|165.66812|\n",
      "|ARBDGN21187FB4C201|       Weatherbox|       San Diego, CA|           null|            null|SOFGXZV12AB0185E12|Two Satchels Of L...|ARBDGN21187FB4C201|2009|187.29751|\n",
      "|ARVSSMY1187FB54535|Ferraby Lionheart|                    |           null|            null|SOIXSBI12A8C13EBC1|The Ballad Of Gus...|ARVSSMY1187FB54535|2006|209.99791|\n",
      "|AREUSCM1187B9B56A0|           Silver|     Los Angeles, CA|       34.05349|      -118.24532|SODIHOR12AB01845BA|           Hold Fast|AREUSCM1187B9B56A0|   0|181.44608|\n",
      "|ARE1E131187B9B6F22| June Carter Cash|         HILTONS, US|           null|            null|SOBQFAX12A6D4FC885|Hold Fast To The ...|ARE1E131187B9B6F22|2004|  178.442|\n",
      "|ARFA2P91187B9B35F0|          Westbam|              Berlin|       52.51607|        13.37698|SONEDGA12A8C13F068|   Die Dunkelsequenz|ARFA2P91187B9B35F0|1997|430.62812|\n",
      "|AR7C9271187FB39BF8|     Chely Wright|      Wellsville, KS|           null|            null|SOWBQRV12A6D4FCC8F|I Got Him Ready F...|AR7C9271187FB39BF8|2005|199.52281|\n",
      "|AREW1KO1187B98E42E| The Irish Tenors|                    |           null|            null|SOBMHTY12AC9097B7C| Mountains Of Mourne|AREW1KO1187B98E42E|   0|100.85832|\n",
      "|ARB57BN1187B9B5EAF|    36 Crazyfists|       Anchorage, AK|       61.21756|      -149.85776|SOEZUUJ12A8AE471BC|Turns to Ashes (A...|ARB57BN1187B9B5EAF|2002|198.05995|\n",
      "+------------------+-----------------+--------------------+---------------+----------------+------------------+--------------------+------------------+----+---------+\n",
      "only showing top 20 rows\n",
      "\n"
     ]
    }
   ],
   "source": [
    "spark.sql(\"SELECT * FROM artists_view JOIN songs_view on songs_view.artist_id = artists_view.artist_id\").show()"
   ]
  },
  {
   "cell_type": "markdown",
   "metadata": {
    "editable": true
   },
   "source": [
    "### List of distinct titles for artist name \"Jamie Cullum\" "
   ]
  },
  {
   "cell_type": "code",
   "execution_count": 37,
   "metadata": {
    "editable": true
   },
   "outputs": [
    {
     "name": "stdout",
     "output_type": "stream",
     "text": [
      "+---------------+\n",
      "|          title|\n",
      "+---------------+\n",
      "|         Oh God|\n",
      "|It's About Time|\n",
      "+---------------+\n",
      "\n"
     ]
    }
   ],
   "source": [
    "spark.sql(\"SELECT distinct songs_view.title FROM songs_view JOIN artists_view on songs_view.artist_id = artists_view.artist_id \" \\\n",
    "          \"WHERE artists_view.artist_name = 'Jamie Cullum'\").show()"
   ]
  }
 ],
 "metadata": {
  "kernelspec": {
   "display_name": "Python 3",
   "language": "python",
   "name": "python3"
  },
  "language_info": {
   "codemirror_mode": {
    "name": "ipython",
    "version": 3
   },
   "file_extension": ".py",
   "mimetype": "text/x-python",
   "name": "python",
   "nbconvert_exporter": "python",
   "pygments_lexer": "ipython3",
   "version": "3.6.3"
  }
 },
 "nbformat": 4,
 "nbformat_minor": 4
}
